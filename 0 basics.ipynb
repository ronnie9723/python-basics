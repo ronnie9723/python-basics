{
  "nbformat": 4,
  "nbformat_minor": 0,
  "metadata": {
    "colab": {
      "name": "Untitled0.ipynb",
      "provenance": [],
      "authorship_tag": "ABX9TyN4z1GcZNDx5jeZqGf6MYNW",
      "include_colab_link": true
    },
    "kernelspec": {
      "name": "python3",
      "display_name": "Python 3"
    }
  },
  "cells": [
    {
      "cell_type": "markdown",
      "metadata": {
        "id": "view-in-github",
        "colab_type": "text"
      },
      "source": [
        "<a href=\"https://colab.research.google.com/github/ronnie9723/python-basics/blob/main/0%20basics.ipynb\" target=\"_parent\"><img src=\"https://colab.research.google.com/assets/colab-badge.svg\" alt=\"Open In Colab\"/></a>"
      ]
    },
    {
      "cell_type": "code",
      "metadata": {
        "colab": {
          "base_uri": "https://localhost:8080/"
        },
        "id": "mgb3PFYz3P9x",
        "outputId": "23617915-73f3-4243-b1a1-73e6d411aeee"
      },
      "source": [
        "print(\"hello world\");\r\n"
      ],
      "execution_count": null,
      "outputs": [
        {
          "output_type": "stream",
          "text": [
            "hello world\n"
          ],
          "name": "stdout"
        }
      ]
    },
    {
      "cell_type": "code",
      "metadata": {
        "colab": {
          "base_uri": "https://localhost:8080/"
        },
        "id": "F4zdgwKrAUy9",
        "outputId": "96375390-8d3e-487e-cda3-f54dcbb752bc"
      },
      "source": [
        "a=5\r\n",
        "b=2\r\n",
        "c=b+a\r\n",
        "print(c)"
      ],
      "execution_count": null,
      "outputs": [
        {
          "output_type": "stream",
          "text": [
            "7\n"
          ],
          "name": "stdout"
        }
      ]
    },
    {
      "cell_type": "code",
      "metadata": {
        "colab": {
          "base_uri": "https://localhost:8080/"
        },
        "id": "TjCMqM-6G6e7",
        "outputId": "cb4e0078-2e55-47b8-b11e-4dfd9576579a"
      },
      "source": [
        "x=5;\r\n",
        "y=\"john\";\r\n",
        "print(x,y)"
      ],
      "execution_count": null,
      "outputs": [
        {
          "output_type": "stream",
          "text": [
            "5 john\n"
          ],
          "name": "stdout"
        }
      ]
    },
    {
      "cell_type": "code",
      "metadata": {
        "colab": {
          "base_uri": "https://localhost:8080/"
        },
        "id": "uDC54PgtHiPE",
        "outputId": "52efaa52-d23c-4b54-b9d7-29f1cdce8f9d"
      },
      "source": [
        "x=4\r\n",
        "y=\"tommy\"\r\n",
        "print(x)\r\n",
        "print(y)"
      ],
      "execution_count": null,
      "outputs": [
        {
          "output_type": "stream",
          "text": [
            "4\n",
            "tommy\n"
          ],
          "name": "stdout"
        }
      ]
    },
    {
      "cell_type": "code",
      "metadata": {
        "colab": {
          "base_uri": "https://localhost:8080/"
        },
        "id": "ErxvZxRMIadW",
        "outputId": "dc9b4d4a-ffb9-4eac-94ca-b674464e5785"
      },
      "source": [
        "x= int(3)\r\n",
        "y= str(2)\r\n",
        "z= float(3)\r\n",
        "\r\n",
        "print(x)\r\n",
        "print(y)\r\n",
        "print(z)"
      ],
      "execution_count": null,
      "outputs": [
        {
          "output_type": "stream",
          "text": [
            "3\n",
            "2\n",
            "3.0\n"
          ],
          "name": "stdout"
        }
      ]
    },
    {
      "cell_type": "code",
      "metadata": {
        "colab": {
          "base_uri": "https://localhost:8080/"
        },
        "id": "7zheSNq2JwMy",
        "outputId": "d8231d57-5579-47f8-d646-21c2eca08d94"
      },
      "source": [
        "x=5\r\n",
        "y=\"johny\"\r\n",
        "print (type(x))\r\n",
        "print (type (y))"
      ],
      "execution_count": null,
      "outputs": [
        {
          "output_type": "stream",
          "text": [
            "<class 'int'>\n",
            "<class 'str'>\n"
          ],
          "name": "stdout"
        }
      ]
    },
    {
      "cell_type": "code",
      "metadata": {
        "colab": {
          "base_uri": "https://localhost:8080/"
        },
        "id": "DCv4fhJ-KSlo",
        "outputId": "7bb64b20-3a77-43f9-8c2f-f12d226622a9"
      },
      "source": [
        "x=\"ronnie\"\r\n",
        "y='ronnie'\r\n",
        "print(x)\r\n",
        "print(y)"
      ],
      "execution_count": null,
      "outputs": [
        {
          "output_type": "stream",
          "text": [
            "ronnie\n",
            "ronnie\n"
          ],
          "name": "stdout"
        }
      ]
    },
    {
      "cell_type": "code",
      "metadata": {
        "colab": {
          "base_uri": "https://localhost:8080/"
        },
        "id": "oCIynauyMVwT",
        "outputId": "26639267-f170-4904-faa9-1cc28aac4cfe"
      },
      "source": [
        "m= 5;\r\n",
        "v= 7;\r\n",
        "c=m+ v\r\n",
        "print(c)"
      ],
      "execution_count": null,
      "outputs": [
        {
          "output_type": "stream",
          "text": [
            "12\n"
          ],
          "name": "stdout"
        }
      ]
    }
  ]
}